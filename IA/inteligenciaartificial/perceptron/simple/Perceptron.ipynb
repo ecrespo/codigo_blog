{
 "cells": [
  {
   "cell_type": "markdown",
   "metadata": {},
   "source": [
    "# Importar librerías"
   ]
  },
  {
   "cell_type": "code",
   "execution_count": 6,
   "metadata": {
    "collapsed": true
   },
   "outputs": [],
   "source": [
    "from pylab import rand,plot,show,norm"
   ]
  },
  {
   "cell_type": "markdown",
   "metadata": {},
   "source": [
    "# Clase Perceptron"
   ]
  },
  {
   "cell_type": "code",
   "execution_count": 10,
   "metadata": {
    "collapsed": true
   },
   "outputs": [],
   "source": [
    "class Perceptron:\n",
    " def __init__(self):\n",
    "  \"\"\" inicialización del perceptron  \"\"\"\n",
    "  self.w = rand(2)*2-1 # pesos\n",
    "  self.tasaAprendizaje = 0.1 \n",
    "\n",
    " def respuesta(self,x):\n",
    "  \"\"\" saldia del perceptron \"\"\"\n",
    "  y = x[0]*self.w[0]+x[1]*self.w[1] # producto punto entre w y x\n",
    "  if y >= 0:\n",
    "   return 1\n",
    "  else:\n",
    "   return -1\n",
    "\n",
    " def actualizarPesos(self,x,iterError):\n",
    "  \"\"\"\n",
    "  Actualizar estatus de los pesos, w en un tiempo t+1 es w(t+1)= w(t) + learningRate*(d-r)*x\n",
    "  donde d es la salida deseada y r la respuesta del perceptro, iteError es la diferencia entre\n",
    "  d y r (d-r).\n",
    "  \"\"\"\n",
    "  self.w[0] += self.tasaAprendizaje*iterError*x[0]\n",
    "  self.w[1] += self.tasaAprendizaje*iterError*x[1]\n",
    "\n",
    " def entrenamiento(self,data):\n",
    "  \"\"\" \n",
    "  Entra todo el vector en los datos, cada vector en los datos debe tener 3 elementos,\n",
    "  el tercer elemento (x[2]) debe ser etiquetado (salida deseada)\n",
    "  \"\"\"\n",
    "  learned = False\n",
    "  iteration = 0\n",
    "  while not learned:\n",
    "   globalError = 0.0\n",
    "   for x in data: # por cada muestra\n",
    "    r = self.respuesta(x)    \n",
    "    if x[2] != r: # si tenemos un respuesta equivocada\n",
    "     iterError = x[2] - r # respuesta deseada-respuesta actual\n",
    "     self.actualizarPesos(x,iterError)\n",
    "     globalError += abs(iterError)\n",
    "   iteration += 1\n",
    "   if globalError == 0.0 or iteration >= 100: # detiene por el criterio\n",
    "    print ('iterations {}'.format(iteration))\n",
    "    learned = True # detiene el aprendizaje\n",
    "    "
   ]
  },
  {
   "cell_type": "code",
   "execution_count": 11,
   "metadata": {
    "collapsed": true
   },
   "outputs": [],
   "source": [
    "def datosGenerados(n):\n",
    "    \"\"\"\n",
    "    genera un conjunto de datos, de dos dimensiones,  linealmente separados con\n",
    "    n muestras. El tercer elemento de la muestra es la etiqueta.\n",
    "    \"\"\"\n",
    "    xb = (rand(n)*2-1)/2-0.5\n",
    "    yb = (rand(n)*2-1)/2+0.5\n",
    "    xr = (rand(n)*2-1)/2+0.5\n",
    "    yr = (rand(n)*2-1)/2-0.5\n",
    "    inputs = []\n",
    "    for i in range(len(xb)):\n",
    "        inputs.append([xb[i],yb[i],1])\n",
    "        inputs.append([xr[i],yr[i],-1])\n",
    "    return inputs"
   ]
  },
  {
   "cell_type": "code",
   "execution_count": 12,
   "metadata": {},
   "outputs": [
    {
     "name": "stdout",
     "output_type": "stream",
     "text": [
      "iterations 1\n"
     ]
    },
    {
     "data": {
      "image/png": "[encoded data removed]",
      "text/plain": [
       "<matplotlib.figure.Figure at 0x7f38c0376a20>"
      ]
     },
     "metadata": {},
     "output_type": "display_data"
    }
   ],
   "source": [
    "trainset = datosGenerados(30) # generación de datos para entrenar\n",
    "perceptron = Perceptron()   # Instancia del perceptron\n",
    "perceptron.entrenamiento(trainset)  # Entrenamiento con el conjunto de datos\n",
    "testset = datosGenerados(20)  # conjunto de datos para el test.\n",
    "\n",
    "# Prueba del perceptron\n",
    "for x in testset:\n",
    " r = perceptron.respuesta(x)\n",
    " if r != x[2]: # Si la respuesta no es correcta\n",
    "  print ('error')\n",
    " if r == 1:\n",
    "  plot(x[0],x[1],'ob')  \n",
    " else:\n",
    "  plot(x[0],x[1],'or')\n",
    "\n",
    "# Se gráfica una línea de separación, la cual es ortogonal a w.\n",
    "n = norm(perceptron.w)\n",
    "ww = perceptron.w/n\n",
    "ww1 = [ww[1],-ww[0]]\n",
    "ww2 = [-ww[1],ww[0]]\n",
    "plot([ww1[0], ww2[0]],[ww1[1], ww2[1]],'--k')\n",
    "show()"
   ]
  },
  {
   "cell_type": "markdown",
   "metadata": {
    "collapsed": true
   },
   "source": [
    "## Los puntos azules pertenecen a la primera clase y los rojos pertenecen a la segunda. La línea punteada es la línea de separación que el perceptrón aprendió durante el entrenamiento."
   ]
  },
  {
   "cell_type": "code",
   "execution_count": null,
   "metadata": {
    "collapsed": true
   },
   "outputs": [],
   "source": []
  }
 ],
 "metadata": {
  "kernelspec": {
   "display_name": "Python 3",
   "language": "python",
   "name": "python3"
  },
  "language_info": {
   "codemirror_mode": {
    "name": "ipython",
    "version": 3
   },
   "file_extension": ".py",
   "mimetype": "text/x-python",
   "name": "python",
   "nbconvert_exporter": "python",
   "pygments_lexer": "ipython3",
   "version": "3.6.3"
  }
 },
 "nbformat": 4,
 "nbformat_minor": 2
}
